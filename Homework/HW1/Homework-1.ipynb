{
 "cells": [
  {
   "cell_type": "markdown",
   "id": "9c2b24a1",
   "metadata": {},
   "source": [
    "Author: Micheal C. Chen\n",
    "\n",
    "Email: muchuchen03@gmail.com"
   ]
  },
  {
   "cell_type": "markdown",
   "id": "a530abc0",
   "metadata": {},
   "source": [
    "# Task 1\n",
    "\n",
    "In this task, we will write a program to diagonalize the **extended Hubbard model** on a **6-site ladder**.\n",
    "\n",
    "$$\n",
    "H = -t \\sum_{\\langle i,j\\rangle,\\sigma}\\big(c^{\\dagger}_{i\\sigma}c_{j\\sigma}+c^{\\dagger}_{j\\sigma}c_{i\\sigma}\\big)\n",
    "+ U\\sum_{i} n_{i\\uparrow}n_{i\\downarrow}\n",
    "- V \\sum_{\\langle\\langle i,j\\rangle\\rangle}!(n_{i\\uparrow}+n_{i\\downarrow})(n_{j\\uparrow}+n_{j\\downarrow})\n",
    "- \\mu \\sum_{i,\\sigma} n_{i\\sigma}.\n",
    "$$\n",
    "\n",
    "* For the hopping term, use the site pairs\n",
    "  $\n",
    "  {\\langle i, j\\rangle} \\in {(0,2),(1,3),(2,4),(4,5),(1,2),(3,4)}.\n",
    "  $\n",
    "* For the density–density interaction across rungs/diagonals, use\n",
    "  $\n",
    "  {\\langle\\langle i,j\\rangle\\rangle,} \\in {(0,1),(2,3),(1,4),(3,5)}.\n",
    "  $\n",
    "<p align=\"center\">\n",
    "  <img src=\"hubbard-ladder.png\" alt=\"6-site ladder for the extended Hubbard model\" width=\"360\">\n",
    "  \n",
    "</p>\n",
    "\n",
    "Use the parameters: $t=1.0,U=8.0,V=0.4, \\mu=4.0.$\n",
    "\n",
    "and **Make full use of the (U(1)) symmetry**.\n",
    "## Tasks\n",
    "\n",
    "1. **Subspace spectrum:** In the $(N_\\uparrow=2, N_\\downarrow=4)$ sector, list the **lowest 6 eigenvalues**.\n",
    "2. **Full spectrum:** For the whole system (all sectors), list the **lowest 20 eigenvalues**.\n",
    "3. **Densities in the ground state:** Using the true ground state, compute $\\langle n_{i,\\sigma}\\rangle$ for **each site** $i$ and **each spin** $\\sigma$.\n"
   ]
  },
  {
   "cell_type": "markdown",
   "id": "f2a8f2b9",
   "metadata": {},
   "source": [
    "## Bit Operations\n",
    "The most significant part of Exact Diagonalization is to define proper bit operations for representing Hamiltonian elements. Both off-diagonal term and diagonal term."
   ]
  },
  {
   "cell_type": "code",
   "execution_count": 1,
   "id": "8744fc56",
   "metadata": {},
   "outputs": [],
   "source": [
    "def ReadBit(i, n): # Read n-th bit\n",
    "    return (i&(1<<n))>>n\n",
    "\n",
    "def FlipBit(i, n): # Filp n-th bit \n",
    "    return i^(1<<n)\n",
    "\n",
    "def PopCntBit(i): # Count how many \"1\"s in the string\n",
    "    return bin(i).count(\"1\")\n",
    "\n",
    "def PickBit(i, k, n): # Pick up k bits from n-th bit\n",
    "    return (i&((2**n-1)<<k))>>k"
   ]
  },
  {
   "cell_type": "markdown",
   "id": "08e1e1d1",
   "metadata": {},
   "source": [
    "## U(1) Symmetry for Hamiltonian Construction and Diagonalization"
   ]
  },
  {
   "cell_type": "markdown",
   "id": "c7e0060d",
   "metadata": {},
   "source": [
    "Before constructing Hamiltonian matrix, we firstly set proper parameters."
   ]
  },
  {
   "cell_type": "code",
   "execution_count": 2,
   "id": "ca69f874",
   "metadata": {},
   "outputs": [],
   "source": [
    "import numpy as np\n",
    "import numpy.linalg as LA\n",
    "from scipy import sparse\n",
    "\n",
    "Ns = 6\n",
    "Params = [1.0, 8.0, 0.4, 4.0] # We store it in an array\n",
    "# Hopping List Term\n",
    "HopList = [[0, 2], [1, 3], [2, 4], [4, 5], [1, 2], [3, 4]]\n",
    "DensityList = [[0, 1], [2, 3], [1, 4], [3, 5]]"
   ]
  },
  {
   "cell_type": "markdown",
   "id": "ca3667fb",
   "metadata": {},
   "source": [
    "We consider $U(1)$ symmetry. Let $u$ and $d$ are number of spin-up/down fermions. Then we have:\n",
    "$$\n",
    "4^6 = \\sum_{0\\leq u\\leq 6}\\sum_{0\\leq d\\leq 6}\\binom{6}{u}\\binom{6}{d}=4096\n",
    "$$\n",
    "It tells up the total number of subspaces $(6+1)\\times(6+1)=49$. We set number of spinup, spindown fermions to build up subspaces."
   ]
  },
  {
   "cell_type": "code",
   "execution_count": 3,
   "id": "6537cd5d",
   "metadata": {},
   "outputs": [],
   "source": [
    "def FermiHopList(Ns, HopList): \n",
    "    \"\"\"\n",
    "    Args:\n",
    "        Ns: Number of sites\n",
    "        HopList: List of original hopping terms.\n",
    "    Returns:\n",
    "        SpinHopList: List of hopping terms including spin.\n",
    "    \"\"\"\n",
    "    SpinHopList = HopList.copy()\n",
    "    for lst in range(len(HopList)):\n",
    "        SpinHopList.append([HopList[lst][0] + Ns, HopList[lst][1] + Ns])\n",
    "    return SpinHopList\n",
    "\n",
    "def subSpace(Ns, spinup, spindown):\n",
    "    \"\"\"\n",
    "    Args:\n",
    "        Ns: Number of sites\n",
    "        spinup: Number of spin-up fermions\n",
    "        spindown: Number of spin-down fermions\n",
    "    Returns:   \n",
    "        subBasis: List of basis in the subspace\n",
    "        idxList: Dictionary of basis index in the subspace\n",
    "    \"\"\"\n",
    "    dim = 4 ** Ns\n",
    "    subBasis = []\n",
    "    idxList = {}\n",
    "    for basis in range(dim):\n",
    "        if (PopCntBit(PickBit(basis, 0, Ns)) == spinup) and (PopCntBit(PickBit(basis, Ns, 2*Ns)) == spindown):\n",
    "            idxList[basis] = len(subBasis)\n",
    "            subBasis.append(basis)\n",
    "    return subBasis, idxList"
   ]
  },
  {
   "cell_type": "markdown",
   "id": "9a46aed2",
   "metadata": {},
   "source": [
    "Then we build Hubbard Hamiltonian matrix in a subspace, and then diagonalize it."
   ]
  },
  {
   "cell_type": "code",
   "execution_count": 4,
   "id": "0cb93e63",
   "metadata": {},
   "outputs": [],
   "source": [
    "def HubbardHam_sym(Ns, Params, HopList, DensityList, spinup, spindown):\n",
    "    \"\"\"\n",
    "    Args:\n",
    "        Ns: Number of sites\n",
    "        Params: List of parameters [t, U, V, mu] in Hubbard model\n",
    "        HopList: Original Hopping list.\n",
    "        DensityList: Density-density interaction terms\n",
    "        spinup: Number of spin-up fermions\n",
    "        spindown: Number of spin-down fermions\n",
    "\n",
    "    Returns:\n",
    "        Hamr: Hubbard Hamiltonian matrix in the subspace\n",
    "    \"\"\"\n",
    "    t_hop, u_onsite, v_nn, mu_chem = Params\n",
    "    SpinHopList = FermiHopList(Ns, HopList) # add spin term\n",
    "    HamFrom = []\n",
    "    HamTo = []\n",
    "    HamValue = []\n",
    "\n",
    "    subBasis, idxList = subSpace(Ns, spinup, spindown)\n",
    "    dim = len(subBasis)\n",
    "    for col, basis in enumerate(subBasis):\n",
    "        for idx in range(len(SpinHopList)):\n",
    "            Pos0 = SpinHopList[idx][0]\n",
    "            Pos1 = SpinHopList[idx][1]\n",
    "\n",
    "            if ReadBit(basis, Pos0) != ReadBit(basis, Pos1): # Off-diagonal term\n",
    "                if ReadBit(basis, Pos0)==0:\n",
    "                    Pos0, Pos1 = Pos1, Pos0\n",
    "                sign = (-1)**(PopCntBit(PickBit(basis, 0, Pos0)))\n",
    "                newbasis = FlipBit(basis, Pos0)\n",
    "\n",
    "                sign = (-1)**(PopCntBit(PickBit(newbasis, 0, Pos1))) * sign\n",
    "                newbasis = FlipBit(newbasis, Pos1)\n",
    "                row = idxList[newbasis]\n",
    "\n",
    "                HamTo.append(row)\n",
    "                HamFrom.append(col)\n",
    "                HamValue.append(-t_hop*sign)     \n",
    "\n",
    "        # Diagonal elements\n",
    "        HamTo.append(col) \n",
    "        HamFrom.append(col)\n",
    "        diagVal = 0\n",
    "        for site in range(Ns):\n",
    "            diagVal += u_onsite * ReadBit(basis, site) * ReadBit(basis, site + Ns)\n",
    "            diagVal += -mu_chem * (ReadBit(basis, site) + ReadBit(basis, site + Ns)) \n",
    "        for dens in range(len(DensityList)):\n",
    "            isite = DensityList[dens][0]\n",
    "            jsite = DensityList[dens][1]\n",
    "            diagVal += -v_nn * (ReadBit(basis, isite)+ ReadBit(basis, isite+Ns)) * (ReadBit(basis, jsite) + ReadBit(basis, jsite+Ns))\n",
    "        HamValue.append(diagVal)\n",
    "\n",
    "    Hamr = sparse.coo_matrix((HamValue, (HamTo, HamFrom)), shape = (dim, dim)).toarray()\n",
    "    return Hamr"
   ]
  },
  {
   "cell_type": "markdown",
   "id": "7a81ddd0",
   "metadata": {},
   "source": [
    "## Result 1:\n",
    "Show the lowest 6 eigenvalues in the $(N_{\\uparrow}=2, N_{\\downarrow}=4)$ subspace."
   ]
  },
  {
   "cell_type": "code",
   "execution_count": 5,
   "id": "fb736551",
   "metadata": {},
   "outputs": [
    {
     "name": "stdout",
     "output_type": "stream",
     "text": [
      "Eigenvalues in Nup=2, Ndown=4 subspace:\n",
      " [-27.30624878 -27.00069745 -26.92490668 -26.77252547 -26.66863714\n",
      " -26.54837612]\n"
     ]
    }
   ],
   "source": [
    "Ns = 6\n",
    "spinup = 2\n",
    "spindown = 4\n",
    "SubHam = HubbardHam_sym(Ns, Params, HopList, DensityList, spinup, spindown)\n",
    "eigval, eigvec = LA.eig(SubHam)\n",
    "print(f\"Eigenvalues in Nup={spinup}, Ndown={spindown} subspace:\\n\", np.sort(eigval)[:6])"
   ]
  },
  {
   "cell_type": "markdown",
   "id": "76fe1fb4",
   "metadata": {},
   "source": [
    "## Result 2:\n",
    "Show the lowest 20 eigenvalues of the whole system."
   ]
  },
  {
   "cell_type": "code",
   "execution_count": 6,
   "id": "ce6c930e",
   "metadata": {},
   "outputs": [
    {
     "name": "stdout",
     "output_type": "stream",
     "text": [
      "Lowest 20 eigenvalues of the whole system:\n",
      " [-27.52865033 -27.30624878 -27.30624878 -27.30624878 -27.00069745\n",
      " -27.00069745 -27.00069745 -26.92490668 -26.92490668 -26.92490668\n",
      " -26.81123368 -26.77252547 -26.77252547 -26.77252547 -26.77252547\n",
      " -26.77252547 -26.67702648 -26.66863714 -26.66863714 -26.66863714]\n"
     ]
    }
   ],
   "source": [
    "eigvalues = []\n",
    "for spinup in range(Ns + 1):\n",
    "    for spindown in range(Ns + 1):\n",
    "        HamSub = HubbardHam_sym(Ns, Params, HopList, DensityList, spinup, spindown)\n",
    "        eigval = LA.eigvalsh(HamSub)\n",
    "        eigvalues.extend(eigval)\n",
    "print(\"Lowest 20 eigenvalues of the whole system:\\n\", np.sort(eigvalues)[:20])"
   ]
  },
  {
   "cell_type": "markdown",
   "id": "5f13d921",
   "metadata": {},
   "source": [
    "## Result 3:\n",
    "Calculate $\\langle n_{i, \\sigma} \\rangle$ for each site and spin using the true ground state."
   ]
  },
  {
   "cell_type": "code",
   "execution_count": 7,
   "id": "b1be0522",
   "metadata": {},
   "outputs": [
    {
     "name": "stdout",
     "output_type": "stream",
     "text": [
      "Site 0 Density Up Spin: 0.4997907487106394\n",
      "Site 0 Density Down Spin: 0.49979074871064066\n",
      "Site 1 Density Up Spin: 0.5013937328741384\n",
      "Site 1 Density Down Spin: 0.5013937328741409\n",
      "Site 2 Density Up Spin: 0.49881551841522126\n",
      "Site 2 Density Down Spin: 0.4988155184152203\n",
      "Site 3 Density Up Spin: 0.501393732874141\n",
      "Site 3 Density Down Spin: 0.5013937328741381\n",
      "Site 4 Density Up Spin: 0.4988155184152202\n",
      "Site 4 Density Down Spin: 0.49881551841522126\n",
      "Site 5 Density Up Spin: 0.4997907487106408\n",
      "Site 5 Density Down Spin: 0.4997907487106393\n"
     ]
    }
   ],
   "source": [
    "def SearchGroundState(Ns, Params, HopList, DensityList):\n",
    "    ground_energy = np.inf\n",
    "    ground_state = dict(E0 = None, Nu = None, Nd = None, psi0 = None, subBasis = None)\n",
    "    for spinup in range(Ns + 1):\n",
    "        for spindown in range(Ns + 1):\n",
    "\n",
    "            HamSub = HubbardHam_sym(Ns, Params, HopList, DensityList, spinup, spindown)\n",
    "            dim = HamSub.shape[0]\n",
    "            if dim == 0:\n",
    "                continue\n",
    "            eigvals, eigvecs = LA.eigh(HamSub)\n",
    "            energy, psi = float(eigvals[0]), eigvecs[:, 0]\n",
    "            if energy < ground_energy:\n",
    "                ground_energy = energy\n",
    "                ground_state.update(E0 = energy, Nu = spinup, Nd = spindown, psi0 = psi, subBasis = subSpace(Ns, spinup, spindown)[0])\n",
    "\n",
    "    return ground_state\n",
    "\n",
    "def CalSpinDensity(Ns, psi, subBasis):\n",
    "    psi = psi / LA.norm(psi)\n",
    "\n",
    "    probs = np.real(psi.conj() * psi)\n",
    "    n_exp = np.zeros((Ns, 2), dtype = float)\n",
    "    for amp2, basis in zip(probs, subBasis):\n",
    "        for site in range(Ns):\n",
    "            n_exp[site, 0] += amp2 * ReadBit(basis, site) # Spin up\n",
    "            n_exp[site, 1] += amp2 * ReadBit(basis, site + Ns) # Spin down\n",
    "\n",
    "    return n_exp\n",
    "\n",
    "ground_state = SearchGroundState(Ns, Params, HopList, DensityList)\n",
    "n_exp = CalSpinDensity(Ns, ground_state['psi0'], ground_state['subBasis'])\n",
    "for i in range(Ns):\n",
    "    n_tot = n_exp[i, 0] + n_exp[i, 1]\n",
    " \n",
    "    print(f\"Site {i} Density Up Spin:\", n_exp[i, 0])\n",
    "    print(f\"Site {i} Density Down Spin:\", n_exp[i, 1])"
   ]
  },
  {
   "cell_type": "markdown",
   "id": "9b0fc915",
   "metadata": {},
   "source": [
    "## Note\n",
    "To highlight the benefit of exploiting symmetry, we first diagonalize the Hubbard Hamiltonian without imposing any symmetry and report the resulting spectrum. Afterwards we compare it with the symmetry-resolved (block-diagonal) approach."
   ]
  },
  {
   "cell_type": "markdown",
   "id": "5e3a504e",
   "metadata": {},
   "source": [
    "## Minimal code (no symmetry; eigenvalues only)\n",
    "Use the full Hamiltonian and call `eigvalsh` (Hermitian solver) so you only get eigenvalues, already sorted:"
   ]
  },
  {
   "cell_type": "code",
   "execution_count": 8,
   "id": "be44bc55",
   "metadata": {},
   "outputs": [],
   "source": [
    "def HubbardHam(Ns, Params, HopList, DensityList):\n",
    "    t_hop, u_onsite, v_nn, mu_chem = Params\n",
    "    SpinHopList = FermiHopList(Ns, HopList) # add spin term\n",
    "    HamFrom = []\n",
    "    HamTo = []\n",
    "    HamValue = []\n",
    "    dim = 4 ** Ns\n",
    "\n",
    "    for basis in range(dim):\n",
    "        for idx in range(len(SpinHopList)):\n",
    "            Pos0 = SpinHopList[idx][0]\n",
    "            Pos1 = SpinHopList[idx][1]\n",
    "\n",
    "            # Off-diagonal elements\n",
    "            if ReadBit(basis, Pos0) != ReadBit(basis, Pos1):\n",
    "                if ReadBit(basis, Pos0)==0:\n",
    "                    Pos0, Pos1 = Pos1, Pos0\n",
    "                sign = (-1)**(PopCntBit(PickBit(basis, 0, Pos0)))\n",
    "                newbasis = FlipBit(basis, Pos0)\n",
    "\n",
    "                sign = (-1)**(PopCntBit(PickBit(newbasis, 0, Pos1))) * sign\n",
    "                newbasis = FlipBit(newbasis, Pos1)\n",
    "\n",
    "                HamTo.append(newbasis)\n",
    "                HamFrom.append(basis)\n",
    "                HamValue.append(-t_hop*sign)      \n",
    "\n",
    "        # Diagonal elements\n",
    "        HamTo.append(basis) \n",
    "        HamFrom.append(basis)\n",
    "        diagVal = 0\n",
    "        for site in range(Ns):\n",
    "            diagVal += u_onsite * ReadBit(basis, site) * ReadBit(basis, site + Ns)\n",
    "            diagVal += -mu_chem * (ReadBit(basis, site) + ReadBit(basis, site + Ns)) \n",
    "        for dens in range(len(DensityList)):\n",
    "            isite = DensityList[dens][0]\n",
    "            jsite = DensityList[dens][1]\n",
    "            diagVal += -v_nn * (ReadBit(basis, isite)+ ReadBit(basis, isite+Ns)) * (ReadBit(basis, jsite) + ReadBit(basis, jsite+Ns))\n",
    "        HamValue.append(diagVal)\n",
    "\n",
    "    Hamr = sparse.coo_matrix((HamValue, (HamTo, HamFrom)), shape = (dim, dim)).toarray()\n",
    "    return Hamr"
   ]
  },
  {
   "cell_type": "markdown",
   "id": "e0ab0a7c",
   "metadata": {},
   "source": [
    "We find it's much slower."
   ]
  },
  {
   "cell_type": "code",
   "execution_count": 9,
   "id": "3d8498e8",
   "metadata": {},
   "outputs": [
    {
     "name": "stdout",
     "output_type": "stream",
     "text": [
      "[-27.52865033 -27.30624878 -27.30624878 -27.30624878 -27.00069745\n",
      " -27.00069745 -27.00069745 -26.92490668 -26.92490668 -26.92490668\n",
      " -26.81123368 -26.77252547 -26.77252547 -26.77252547 -26.77252547\n",
      " -26.77252547 -26.67702648 -26.66863714 -26.66863714 -26.66863714]\n"
     ]
    }
   ],
   "source": [
    "HamHubbard = HubbardHam(Ns, Params, HopList, DensityList)\n",
    "def Diagonalization(Hamiltonian):\n",
    "    eigval, eigvec = LA.eig(Hamiltonian)\n",
    "    return eigval\n",
    "\n",
    "print(np.sort(Diagonalization(HamHubbard))[:20])"
   ]
  },
  {
   "cell_type": "markdown",
   "id": "c0aef02f",
   "metadata": {},
   "source": [
    "# Task 2\n",
    "In this task, I will use Exact Diagonalization for time evolution of a single-particle Gaussian wave packet on a tight-binding chain with a gradient field.\n",
    "\n",
    "The Hamiltonian can be written as:\n",
    "$$\n",
    "H= -\\sum_{j=1}^{N-1}\\Big(|j\\rangle\\langle j+1|+|j+1\\rangle\\langle j|\\Big)\n",
    "+ F\\sum_{j=1}^{N} j|j\\rangle\\langle j|.\n",
    "$$\n",
    "\n",
    "Initial state (normalized Gaussian wave packet):\n",
    "$$\n",
    "|\\psi(0)\\rangle = \\frac{1}{\\sqrt{\\Omega}}\n",
    "\\sum_{j=1}^{N} \\exp \\Big[-\\cfrac{\\alpha^{2}}{2}(j-N_0)^2\\Big]\n",
    "e^{i k_0 j}|j\\rangle.\n",
    "$$\n",
    "\n",
    "\n",
    "\n",
    "## Parameters\n",
    "Use the parameters: $N=101, F=0.1, k_0=\\pi/2,\\alpha=0.15, N_0=51, t\\in[0,100].$\n",
    "\n",
    "\n",
    "## Tasks\n",
    "\n",
    "1. **Diagonalize**  $H$ and list the **lowest 10 eigenvalues**.\n",
    "2. At $t=42$, report $|\\psi(j,t)|^{2}$ for $j=10,20,30,40,50$.\n",
    "3. Plot $|\\psi(j,t)|^{2}$ as functions of $j$ and $t$ (expect **Bloch oscillation**).\n"
   ]
  },
  {
   "cell_type": "markdown",
   "id": "fad571cf",
   "metadata": {},
   "source": [
    "Before time evolution, we set parameters and initial state."
   ]
  },
  {
   "cell_type": "code",
   "execution_count": 10,
   "id": "973810a1",
   "metadata": {},
   "outputs": [],
   "source": [
    "num_qubits = 101\n",
    "F = 0.1\n",
    "k0 = np.pi/2\n",
    "alpha = 0.15\n",
    "N0 = 51\n",
    "tmax = 100\n",
    "t = 42\n",
    "init_state = np.array([\n",
    "    np.exp((-0.5 * alpha**2) * (qub + 1- N0)**2) * np.exp(1j * k0 * (qub + 1))\n",
    "    for qub in range(num_qubits)\n",
    "    ])\n",
    "init_state = init_state/ LA.norm(init_state)\n"
   ]
  },
  {
   "cell_type": "markdown",
   "id": "a29f5fc3",
   "metadata": {},
   "source": [
    "## Hamiltonian Construction and Diagonalization"
   ]
  },
  {
   "cell_type": "code",
   "execution_count": 11,
   "id": "ab7d97a1",
   "metadata": {},
   "outputs": [],
   "source": [
    "def GradientField(num_qubits, F):\n",
    "    \"\"\"\n",
    "    Args:\n",
    "        num_qubits: Number of qubits\n",
    "        F: Parameter\n",
    "    Returns:\n",
    "        Hamr: Corrsponding Hamiltonian\n",
    "    \"\"\"\n",
    "    dim = num_qubits\n",
    "    HamFrom = []\n",
    "    HamTo = []\n",
    "    HamValue = []\n",
    "    for qub in range(num_qubits-1):\n",
    "        # Off-diagonal Term\n",
    "        HamTo.append(qub+1)\n",
    "        HamFrom.append(qub)\n",
    "        HamValue.append(-1)\n",
    "\n",
    "        HamTo.append(qub)\n",
    "        HamFrom.append(qub+1)\n",
    "        HamValue.append(-1)\n",
    "    # Diagonal Term\n",
    "    for qub in range(num_qubits): \n",
    "        \n",
    "        HamTo.append(qub)\n",
    "        HamFrom.append(qub)\n",
    "        HamValue.append(F*(qub+1))\n",
    "    Hamr = sparse.coo_matrix((HamValue, (HamTo, HamFrom)), shape = (dim, dim)).toarray()\n",
    "\n",
    "    return Hamr"
   ]
  },
  {
   "cell_type": "markdown",
   "id": "dce72d9e",
   "metadata": {},
   "source": [
    "## Result 1:\n",
    "Diagonalize the Hamiltonian and show the lowest 10 eigenvalues."
   ]
  },
  {
   "cell_type": "code",
   "execution_count": 12,
   "id": "1eeb9a00",
   "metadata": {},
   "outputs": [
    {
     "name": "stdout",
     "output_type": "stream",
     "text": [
      "Lowest 10 eigenvalues:\n",
      " [-1.50050978 -1.13263731 -0.83544214 -0.57592755 -0.34141332 -0.12533996\n",
      "  0.07623401  0.26590362  0.44548515  0.61630546]\n"
     ]
    }
   ],
   "source": [
    "HamGradField = GradientField(num_qubits, F)\n",
    "eigval = LA.eigvalsh(HamGradField)\n",
    "print(\"Lowest 10 eigenvalues:\\n\", np.sort(eigval)[:10])"
   ]
  },
  {
   "cell_type": "markdown",
   "id": "7080cc7a",
   "metadata": {},
   "source": [
    "## Result 2:\n",
    "Show $|\\psi (j, t)|^2$ for $t=42$ and $j=10, 20, 30, 40, 50$. We define function `Evolution` for time-evolution process."
   ]
  },
  {
   "cell_type": "code",
   "execution_count": 13,
   "id": "9eea3b55",
   "metadata": {},
   "outputs": [
    {
     "name": "stdout",
     "output_type": "stream",
     "text": [
      "j=10: |psi(10, t)|^2 = [1.15319946e-05]\n",
      "j=20: |psi(20, t)|^2 = [0.00381621]\n",
      "j=30: |psi(30, t)|^2 = [0.05723548]\n",
      "j=40: |psi(40, t)|^2 = [0.03756072]\n",
      "j=50: |psi(50, t)|^2 = [0.00113796]\n"
     ]
    }
   ],
   "source": [
    "def Evolution(init_state, Hamiltonian, t):\n",
    "    \"\"\"\n",
    "    Args: \n",
    "        init_state: Initial state\n",
    "        Hamiltonian: Hamiltonian matrix\n",
    "        t: Time\n",
    "    Returns:\n",
    "        final_state: State after evolution\n",
    "    \"\"\"\n",
    "    eigvals, eigvecs = LA.eigh(Hamiltonian)\n",
    "    coeffs = eigvecs.conj().T @ init_state\n",
    "\n",
    "    t = np.atleast_1d(t)\n",
    "    phases = np.exp(-1j * eigvals[:, None] * t[None, :])\n",
    "    final_state = eigvecs @ (phases * coeffs[:, None])\n",
    "\n",
    "    return final_state\n",
    "\n",
    "t_evo = 42\n",
    "Evolution(init_state, HamGradField, t_evo)\n",
    "for j in [10, 20, 30, 40, 50]:\n",
    "    print(f\"j={j:2d}: |psi({j}, t)|^2 = {abs(Evolution(init_state, HamGradField, t_evo)[j-1])**2}\")"
   ]
  },
  {
   "cell_type": "markdown",
   "id": "1eec34ba",
   "metadata": {},
   "source": [
    "## Result 3:\n",
    "Plot $|\\psi (j, t)|^2$ as functions of $j$ and $t$."
   ]
  },
  {
   "cell_type": "code",
   "execution_count": 14,
   "id": "eb7594ad",
   "metadata": {},
   "outputs": [
    {
     "data": {
      "text/plain": [
       "Text(0.5, 1.0, 'Probability')"
      ]
     },
     "execution_count": 14,
     "metadata": {},
     "output_type": "execute_result"
    },
    {
     "data": {
      "image/png": "[encoded data removed]",
      "text/plain": [
       "<Figure size 640x480 with 1 Axes>"
      ]
     },
     "metadata": {},
     "output_type": "display_data"
    }
   ],
   "source": [
    "import matplotlib.pyplot as plt\n",
    "tLst = np.linspace(0, tmax, 100)\n",
    "final_state = Evolution(init_state, HamGradField, tLst)\n",
    "prob = np.abs(final_state) ** 2\n",
    "\n",
    "plt.imshow(prob)\n",
    "plt.xlabel('time t')\n",
    "plt.ylabel('position j')\n",
    "plt.title('Probability')"
   ]
  }
 ],
 "metadata": {
  "kernelspec": {
   "display_name": ".venv",
   "language": "python",
   "name": "python3"
  },
  "language_info": {
   "codemirror_mode": {
    "name": "ipython",
    "version": 3
   },
   "file_extension": ".py",
   "mimetype": "text/x-python",
   "name": "python",
   "nbconvert_exporter": "python",
   "pygments_lexer": "ipython3",
   "version": "3.10.6"
  }
 },
 "nbformat": 4,
 "nbformat_minor": 5
}
